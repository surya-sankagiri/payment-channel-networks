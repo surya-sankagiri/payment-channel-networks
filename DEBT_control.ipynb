{
 "cells": [
  {
   "cell_type": "code",
   "execution_count": 1,
   "metadata": {},
   "outputs": [],
   "source": [
    "import numpy as np\n",
    "import matplotlib.pyplot as plt\n",
    "from DEBT_control_class import DEBT_Control_Protocol"
   ]
  },
  {
   "cell_type": "code",
   "execution_count": 2,
   "metadata": {},
   "outputs": [],
   "source": [
    "params = dict()\n",
    "params[\"custom\"] = True\n",
    "params[\"capacity_matrix\"] = np.array([[0, 100, 100], [100, 0, 100], [100, 100, 0]])\n",
    "params[\"price_update_step_size\"] = 0.01"
   ]
  },
  {
   "cell_type": "code",
   "execution_count": 3,
   "metadata": {},
   "outputs": [],
   "source": [
    "params[\"custom_routes\"] = True\n",
    "paths = dict()\n",
    "empty_path = np.zeros((3, 3))\n",
    "paths[(0,1)] = [empty_path.copy(), empty_path.copy()]\n",
    "paths[(0,1)][0][0,1] = 1\n",
    "paths[(0,1)][1][0,2] = 1\n",
    "paths[(0,1)][1][2,1] = 1\n",
    "paths[(1,2)] = [empty_path.copy(), empty_path.copy()]\n",
    "paths[(1,2)][0][1,2] = 1\n",
    "paths[(1,2)][1][1,0] = 1\n",
    "paths[(1,2)][1][0,2] = 1\n",
    "paths[(2,0)] = [empty_path.copy(), empty_path.copy()]\n",
    "paths[(2,0)][0][2,0] = 1\n",
    "paths[(2,0)][1][2,1] = 1\n",
    "paths[(2,0)][1][1,0] = 1\n",
    "params[\"routes\"] = paths\n"
   ]
  },
  {
   "cell_type": "code",
   "execution_count": 4,
   "metadata": {},
   "outputs": [
    {
     "name": "stdout",
     "output_type": "stream",
     "text": [
      "Demand Matrix:\n",
      "[[ 0 10  0]\n",
      " [ 0  0 10]\n",
      " [10  0  0]]\n"
     ]
    }
   ],
   "source": [
    "demand_params = dict()\n",
    "demand_params[\"custom\"] = True\n",
    "demand_params[\"demand_matrix\"] = np.array([[0, 10, 0], [0, 0, 10], [10, 0, 0]])\n",
    "random_demand_params = dict()\n",
    "random_demand_params[\"distribution\"] = \"deterministic\"\n",
    "demand_params[\"random\"] = random_demand_params\n",
    "price_threshold = (3.0, 3.3)\n",
    "myPCN = DEBT_Control_Protocol(params, demand_params, price_threshold)"
   ]
  },
  {
   "cell_type": "code",
   "execution_count": 5,
   "metadata": {},
   "outputs": [],
   "source": [
    "T = 100\n",
    "n = 0\n",
    "if params[\"custom\"]:\n",
    "    n = len(params[\"capacity_matrix\"])\n",
    "else:\n",
    "    n = params[\"num_vertices\"]"
   ]
  },
  {
   "cell_type": "code",
   "execution_count": 6,
   "metadata": {},
   "outputs": [],
   "source": [
    "# create arrays to store flows and prices\n",
    "flows_data = dict()\n",
    "path_price_data = dict()\n",
    "for i in range(n):\n",
    "    for j in range(n):\n",
    "        if (i,j) not in myPCN.paths.keys():\n",
    "            continue\n",
    "        flows_data[(i,j)] = np.zeros((T,len(myPCN.paths[(i,j)])))\n",
    "        path_price_data[(i,j)] = np.zeros((T,len(myPCN.paths[(i,j)])))\n",
    "edge_price_data = np.zeros((T, n, n))\n",
    "reset_data = np.zeros((T, n, n))"
   ]
  },
  {
   "cell_type": "code",
   "execution_count": 7,
   "metadata": {},
   "outputs": [],
   "source": [
    "for t in range(T):\n",
    "    myPCN.loop()\n",
    "    edge_price_data[t] = myPCN.link_prices.copy()\n",
    "    for key in flows_data.keys():\n",
    "        flows_data[key][t] = myPCN.flow_requests[key]\n",
    "        path_price_data[key][t] = myPCN.path_prices[key]\n",
    "        reset_data[t] = myPCN.channels_reset\n"
   ]
  },
  {
   "cell_type": "code",
   "execution_count": 8,
   "metadata": {},
   "outputs": [
    {
     "name": "stdout",
     "output_type": "stream",
     "text": [
      "0 1\n",
      "1 2\n",
      "2 0\n"
     ]
    },
    {
     "data": {
      "text/plain": [
       "<matplotlib.legend.Legend at 0x7fd630572e80>"
      ]
     },
     "execution_count": 8,
     "metadata": {},
     "output_type": "execute_result"
    },
    {
     "data": {
      "image/png": "[encoded data removed]",
      "text/plain": [
       "<Figure size 600x400 with 1 Axes>"
      ]
     },
     "metadata": {},
     "output_type": "display_data"
    }
   ],
   "source": [
    "alphabets = ['A', 'B', 'C', 'D', 'E', 'F']\n",
    "plt.close(\"all\")\n",
    "plt.figure(figsize=(6,4))\n",
    "for i in range(n):\n",
    "    for j in range(n):\n",
    "        if myPCN.demands[i,j] > 0:\n",
    "            print(i,j)\n",
    "            plt.plot(np.sum(flows_data[(i,j)], axis=1), label = alphabets[i] + \" ->\" + alphabets[j])\n",
    "            # plt.plot(total_average(np.sum(flows_data[(i,j)], axis=1)), label = str(i) + \"->\" + str(j) + \"flow; demand \"+str(myPCN.demands[i,j]))\n",
    "            # plt.plot(np.sum(flows_data[(i,j)], axis=1), label = alphabets[i] + \"->\" + alphabets[j])\n",
    "# plt.plot(flows_data[(0,1)][:,0], label = \"short path\", marker = 's', linestyle='none')\n",
    "plt.legend()"
   ]
  },
  {
   "cell_type": "code",
   "execution_count": 9,
   "metadata": {},
   "outputs": [
    {
     "data": {
      "text/plain": [
       "array([[ 0.        ,  0.        ],\n",
       "       [-0.05      ,  0.1       ],\n",
       "       [-0.08877105,  0.17754209],\n",
       "       [-0.11891478,  0.23782955],\n",
       "       [-0.14243915,  0.28487829],\n",
       "       [-0.16086927,  0.32173854],\n",
       "       [-0.17536023,  0.35072045],\n",
       "       [-0.18678967,  0.37357934],\n",
       "       [-0.19582829,  0.39165659],\n",
       "       [-0.20299194,  0.40598387],\n",
       "       [-0.2086798 ,  0.41735959],\n",
       "       [-0.21320254,  0.42640507],\n",
       "       [-0.21680311,  0.43360622],\n",
       "       [-0.2196723 ,  0.4393446 ],\n",
       "       [-0.22196045,  0.44392089],\n",
       "       [-0.22378635,  0.44757271],\n",
       "       [-0.22524413,  0.45048826],\n",
       "       [-0.22640847,  0.45281693],\n",
       "       [-0.22733873,  0.45467746],\n",
       "       [-0.22808217,  0.45616433],\n",
       "       [-0.22867642,  0.45735285],\n",
       "       [-0.22915151,  0.45830302],\n",
       "       [-0.22953138,  0.45906276],\n",
       "       [-0.22983515,  0.45967029],\n",
       "       [-0.23007808,  0.46015615],\n",
       "       [-0.23027237,  0.46054474],\n",
       "       [-0.23042777,  0.46085553],\n",
       "       [-0.23055206,  0.46110413],\n",
       "       [-0.23065149,  0.46130298],\n",
       "       [-0.23073102,  0.46146204],\n",
       "       [-0.23079464,  0.46158927],\n",
       "       [-0.23084553,  0.46169106],\n",
       "       [-0.23088624,  0.46177248],\n",
       "       [-0.23091881,  0.46183761],\n",
       "       [-0.23094486,  0.46188972],\n",
       "       [-0.2309657 ,  0.4619314 ],\n",
       "       [-0.23098237,  0.46196474],\n",
       "       [-0.23099571,  0.46199142],\n",
       "       [-0.23100638,  0.46201276],\n",
       "       [-0.23101492,  0.46202983],\n",
       "       [-0.23102175,  0.46204349],\n",
       "       [-0.23102721,  0.46205442],\n",
       "       [-0.23103158,  0.46206316],\n",
       "       [-0.23103508,  0.46207015],\n",
       "       [-0.23103787,  0.46207574],\n",
       "       [-0.23104011,  0.46208022],\n",
       "       [-0.2310419 ,  0.4620838 ],\n",
       "       [-0.23104333,  0.46208666],\n",
       "       [-0.23104448,  0.46208896],\n",
       "       [-0.23104539,  0.46209079],\n",
       "       [-0.23104613,  0.46209225],\n",
       "       [-0.23104671,  0.46209343],\n",
       "       [-0.23104718,  0.46209437],\n",
       "       [-0.23104756,  0.46209512],\n",
       "       [-0.23104786,  0.46209572],\n",
       "       [-0.2310481 ,  0.4620962 ],\n",
       "       [-0.23104829,  0.46209658],\n",
       "       [-0.23104845,  0.46209689],\n",
       "       [-0.23104857,  0.46209714],\n",
       "       [-0.23104867,  0.46209733],\n",
       "       [-0.23104875,  0.46209749],\n",
       "       [-0.23104881,  0.46209762],\n",
       "       [-0.23104886,  0.46209772],\n",
       "       [-0.2310489 ,  0.4620978 ],\n",
       "       [-0.23104893,  0.46209786],\n",
       "       [-0.23104896,  0.46209791],\n",
       "       [-0.23104898,  0.46209796],\n",
       "       [-0.23104899,  0.46209799],\n",
       "       [-0.23104901,  0.46209801],\n",
       "       [-0.23104902,  0.46209804],\n",
       "       [-0.23104903,  0.46209805],\n",
       "       [-0.23104903,  0.46209807],\n",
       "       [-0.23104904,  0.46209808],\n",
       "       [-0.23104904,  0.46209809],\n",
       "       [-0.23104905,  0.46209809],\n",
       "       [-0.23104905,  0.4620981 ],\n",
       "       [-0.23104905,  0.4620981 ],\n",
       "       [-0.23104905,  0.46209811],\n",
       "       [-0.23104905,  0.46209811],\n",
       "       [-0.23104906,  0.46209811],\n",
       "       [-0.23104906,  0.46209811],\n",
       "       [-0.23104906,  0.46209811],\n",
       "       [-0.23104906,  0.46209812],\n",
       "       [-0.23104906,  0.46209812],\n",
       "       [-0.23104906,  0.46209812],\n",
       "       [-0.23104906,  0.46209812],\n",
       "       [-0.23104906,  0.46209812],\n",
       "       [-0.23104906,  0.46209812],\n",
       "       [-0.23104906,  0.46209812],\n",
       "       [-0.23104906,  0.46209812],\n",
       "       [-0.23104906,  0.46209812],\n",
       "       [-0.23104906,  0.46209812],\n",
       "       [-0.23104906,  0.46209812],\n",
       "       [-0.23104906,  0.46209812],\n",
       "       [-0.23104906,  0.46209812],\n",
       "       [-0.23104906,  0.46209812],\n",
       "       [-0.23104906,  0.46209812],\n",
       "       [-0.23104906,  0.46209812],\n",
       "       [-0.23104906,  0.46209812],\n",
       "       [-0.23104906,  0.46209812]])"
      ]
     },
     "execution_count": 9,
     "metadata": {},
     "output_type": "execute_result"
    }
   ],
   "source": [
    "path_price_data[(1,2)]"
   ]
  }
 ],
 "metadata": {
  "kernelspec": {
   "display_name": "base",
   "language": "python",
   "name": "python3"
  },
  "language_info": {
   "codemirror_mode": {
    "name": "ipython",
    "version": 3
   },
   "file_extension": ".py",
   "mimetype": "text/x-python",
   "name": "python",
   "nbconvert_exporter": "python",
   "pygments_lexer": "ipython3",
   "version": "3.9.12"
  },
  "orig_nbformat": 4
 },
 "nbformat": 4,
 "nbformat_minor": 2
}

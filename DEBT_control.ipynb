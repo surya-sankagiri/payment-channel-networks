{
 "cells": [
  {
   "cell_type": "code",
   "execution_count": 1,
   "metadata": {},
   "outputs": [],
   "source": [
    "import numpy as np\n",
    "import matplotlib.pyplot as plt\n",
    "from DEBT_control_class import DEBT_Control_Protocol"
   ]
  },
  {
   "cell_type": "code",
   "execution_count": 2,
   "metadata": {},
   "outputs": [],
   "source": [
    "params = dict()\n",
    "params[\"custom\"] = True\n",
    "params[\"capacity_matrix\"] = np.array([[0, 100, 100], [100, 0, 100], [100, 100, 0]])\n",
    "params[\"price_update_step_size\"] = 0.01"
   ]
  },
  {
   "cell_type": "code",
   "execution_count": 3,
   "metadata": {},
   "outputs": [],
   "source": [
    "params[\"custom_routes\"] = True\n",
    "paths = dict()\n",
    "empty_path = np.zeros((3, 3))\n",
    "paths[(0,1)] = [empty_path.copy(), empty_path.copy()]\n",
    "paths[(0,1)][0][0,1] = 1\n",
    "paths[(0,1)][1][0,2] = 1\n",
    "paths[(0,1)][1][2,1] = 1\n",
    "paths[(1,2)] = [empty_path.copy(), empty_path.copy()]\n",
    "paths[(1,2)][0][1,2] = 1\n",
    "paths[(1,2)][1][1,0] = 1\n",
    "paths[(1,2)][1][0,2] = 1\n",
    "paths[(2,0)] = [empty_path.copy(), empty_path.copy()]\n",
    "paths[(2,0)][0][2,0] = 1\n",
    "paths[(2,0)][1][2,1] = 1\n",
    "paths[(2,0)][1][1,0] = 1\n",
    "params[\"routes\"] = paths\n"
   ]
  },
  {
   "cell_type": "code",
   "execution_count": 5,
   "metadata": {},
   "outputs": [
    {
     "name": "stdout",
     "output_type": "stream",
     "text": [
      "Demand Matrix:\n",
      "[[ 0 10  0]\n",
      " [ 0  0 10]\n",
      " [10  0  0]]\n"
     ]
    }
   ],
   "source": [
    "demand_params = dict()\n",
    "demand_params[\"custom\"] = True\n",
    "demand_params[\"demand_matrix\"] = np.array([[0, 10, 0], [0, 0, 10], [10, 0, 0]])\n",
    "demand_params[\"random\"] = False\n",
    "price_threshold = (3.0, 3.3)\n",
    "myPCN = DEBT_Control_Protocol(params, demand_params, price_threshold)"
   ]
  },
  {
   "cell_type": "code",
   "execution_count": 6,
   "metadata": {},
   "outputs": [],
   "source": [
    "T = 100\n",
    "n = 0\n",
    "if params[\"custom\"]:\n",
    "    n = len(params[\"capacity_matrix\"])\n",
    "else:\n",
    "    n = params[\"num_vertices\"]"
   ]
  },
  {
   "cell_type": "code",
   "execution_count": 8,
   "metadata": {},
   "outputs": [],
   "source": [
    "# create arrays to store flows and prices\n",
    "flows_data = dict()\n",
    "path_price_data = dict()\n",
    "for i in range(n):\n",
    "    for j in range(n):\n",
    "        if (i,j) not in myPCN.paths.keys():\n",
    "            continue\n",
    "        flows_data[(i,j)] = np.zeros((T,len(myPCN.paths[(i,j)])))\n",
    "        path_price_data[(i,j)] = np.zeros((T,len(myPCN.paths[(i,j)])))\n",
    "edge_price_data = np.zeros((T, n, n))\n",
    "reset_data = np.zeros((T, n, n))"
   ]
  },
  {
   "cell_type": "code",
   "execution_count": 11,
   "metadata": {},
   "outputs": [
    {
     "name": "stdout",
     "output_type": "stream",
     "text": [
      "0 1\n",
      "1 2\n",
      "2 0\n"
     ]
    },
    {
     "data": {
      "text/plain": [
       "<matplotlib.legend.Legend at 0x7f78e89fb2e0>"
      ]
     },
     "execution_count": 11,
     "metadata": {},
     "output_type": "execute_result"
    },
    {
     "data": {
      "image/png": "[encoded data removed]",
      "text/plain": [
       "<Figure size 600x400 with 1 Axes>"
      ]
     },
     "metadata": {},
     "output_type": "display_data"
    }
   ],
   "source": [
    "alphabets = ['A', 'B', 'C', 'D', 'E', 'F']\n",
    "plt.close(\"all\")\n",
    "plt.figure(figsize=(6,4))\n",
    "for i in range(n):\n",
    "    for j in range(n):\n",
    "        if myPCN.demands[i,j] > 0:\n",
    "            print(i,j)\n",
    "            plt.plot(np.sum(flows_data[(i,j)], axis=1), label = alphabets[i] + \"->\" + alphabets[j])\n",
    "            # plt.plot(total_average(np.sum(flows_data[(i,j)], axis=1)), label = str(i) + \"->\" + str(j) + \"flow; demand \"+str(myFC.demands[i,j]))\n",
    "            # plt.plot(np.sum(flows_data[(i,j)], axis=1), label = alphabets[i] + \"->\" + alphabets[j])\n",
    "# plt.plot(flows_data[(0,1)][:,0], label = \"short path\", marker = 's', linestyle='none')\n",
    "plt.legend()"
   ]
  }
 ],
 "metadata": {
  "kernelspec": {
   "display_name": "base",
   "language": "python",
   "name": "python3"
  },
  "language_info": {
   "codemirror_mode": {
    "name": "ipython",
    "version": 3
   },
   "file_extension": ".py",
   "mimetype": "text/x-python",
   "name": "python",
   "nbconvert_exporter": "python",
   "pygments_lexer": "ipython3",
   "version": "3.9.12"
  },
  "orig_nbformat": 4
 },
 "nbformat": 4,
 "nbformat_minor": 2
}

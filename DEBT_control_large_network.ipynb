{
 "cells": [
  {
   "cell_type": "code",
   "execution_count": 1,
   "metadata": {},
   "outputs": [],
   "source": [
    "import numpy as np\n",
    "import matplotlib.pyplot as plt\n",
    "from DEBT_control_class import DEBT_Control_Protocol\n",
    "import logging, sys\n",
    "logging.basicConfig(stream=sys.stderr, level=logging.ERROR)\n",
    "logging.getLogger('matplotlib.font_manager').setLevel(logging.ERROR)\n"
   ]
  },
  {
   "cell_type": "code",
   "execution_count": 2,
   "metadata": {},
   "outputs": [],
   "source": [
    "n = 6\n",
    "params = dict()\n",
    "params[\"custom\"] = True\n",
    "params[\"custom_routes\"] = True\n",
    "C = np.zeros((n, n))\n",
    "for i in range(n-1):\n",
    "    C[i, i+1] = 100\n",
    "    C[n-1, 0] = 100\n",
    "C = C + C.T\n",
    "params[\"capacity_matrix\"] = C"
   ]
  },
  {
   "cell_type": "code",
   "execution_count": 3,
   "metadata": {},
   "outputs": [],
   "source": [
    "def create_path(i, j):\n",
    "    path = np.zeros((n, n))\n",
    "    k = i\n",
    "    while k != j:\n",
    "        path[k, (k+1) % n] = 1\n",
    "        k = (k+1) % n\n",
    "    return path\n",
    "\n",
    "paths = dict()\n",
    "for i in range(n):\n",
    "    for j in range(i+1, n):\n",
    "        paths[(i, j)] = [create_path(i, j), create_path(j, i)]\n",
    "        paths[(j, i)] = paths[(i, j)].copy()\n",
    "params[\"routes\"] = paths"
   ]
  },
  {
   "cell_type": "code",
   "execution_count": 4,
   "metadata": {},
   "outputs": [
    {
     "name": "stdout",
     "output_type": "stream",
     "text": [
      "Demand Matrix:\n",
      "[[ 0 16  9 12  0  7]\n",
      " [ 0  0  7  0 10  6]\n",
      " [11  7  0  0  0  8]\n",
      " [ 8  8 11  0  0  6]\n",
      " [ 0 11  0 12  0  0]\n",
      " [ 0 12  0 14  0  0]]\n"
     ]
    }
   ],
   "source": [
    "demand_params = dict()\n",
    "demand_params[\"distribution\"] = \"Poisson\"\n",
    "demand_params[\"custom demands\"] = True\n",
    "mean = 10\n",
    "sparsity = 0.5\n",
    "demands = np.random.binomial(1, sparsity, (n, n))*np.random.poisson(mean, (n, n))\n",
    "for i in range(n):\n",
    "    demands[i,i] = 0\n",
    "print(\"Demand Matrix:\")\n",
    "print(demands)\n",
    "demand_params[\"demand_matrix\"] = demands"
   ]
  },
  {
   "cell_type": "code",
   "execution_count": 5,
   "metadata": {},
   "outputs": [],
   "source": [
    "price_params = dict()\n",
    "price_params[\"stepsize\"] = 0.01\n",
    "price_params[\"threshold\"] = 1*np.ones((n,n))\n",
    "price_params[\"sensitivity\"] = 0.1*np.ones((n,n)) # regularizer coefficient"
   ]
  },
  {
   "cell_type": "code",
   "execution_count": 6,
   "metadata": {},
   "outputs": [],
   "source": [
    "# initialize the PCN and the protocol\n",
    "myPCN = DEBT_Control_Protocol(params, demand_params, price_params) \n",
    "# loop for T time steps\n",
    "T = 51"
   ]
  },
  {
   "cell_type": "code",
   "execution_count": null,
   "metadata": {},
   "outputs": [],
   "source": [
    "# create arrays to store flows and prices\n",
    "flows_data = dict()\n",
    "path_price_data = dict()\n",
    "for i in range(n):\n",
    "    for j in range(n):\n",
    "        if (i,j) not in myPCN.paths.keys():\n",
    "            continue\n",
    "        flows_data[(i,j)] = np.zeros((T,len(myPCN.paths[(i,j)])))\n",
    "        path_price_data[(i,j)] = np.zeros((T,len(myPCN.paths[(i,j)])))\n",
    "edge_price_data = np.zeros((T, n, n))\n",
    "reset_data = np.zeros((T, n, n))"
   ]
  },
  {
   "cell_type": "code",
   "execution_count": null,
   "metadata": {},
   "outputs": [],
   "source": [
    "logging.info(\"starting loop with %d iterations\", T)\n",
    "for t in range(T):\n",
    "    logging.info(\"starting step %d\", t)\n",
    "    myPCN.single_step(t)\n",
    "    edge_price_data[t] = myPCN.channel_prices.copy()\n",
    "    for key in flows_data.keys():\n",
    "        flows_data[key][t] = myPCN.flow_requests[key]\n",
    "        path_price_data[key][t] = myPCN.path_prices[key]\n",
    "        reset_data[t] = myPCN.channels_reset\n"
   ]
  },
  {
   "cell_type": "code",
   "execution_count": null,
   "metadata": {},
   "outputs": [],
   "source": [
    "\"\"\"\n",
    "fig = plt.figure(figsize = (7,4))\n",
    "# gs = fig.add_gridspec(2, hspace=0)\n",
    "axs = fig.subplots(2, sharex=True)\n",
    "# plt.subplots_adjust(hspace=0)\n",
    "i = 0\n",
    "j = 1\n",
    "axs[0].plot(flows_data[(i,j)][:,0], label = \"short\\npath\", marker ='.')\n",
    "axs[0].plot(flows_data[(i,j)][:,1], label = \"long\\npath\", marker ='.')\n",
    "axs[1].plot(path_price_data[(i,j)][:,0], label = \"short\\npath\", marker ='.')\n",
    "axs[1].plot(path_price_data[(i,j)][:,1], label = \"long\\npath\", marker ='.')\n",
    "plt.legend(bbox_to_anchor=(0.95, 1.4), loc=\"upper left\")\n",
    "plt.xticks(range(0, T+1, 3))\n",
    "axs[0].set(yticks = range(0, 11, 5))\n",
    "axs[1].set(yticks = [-0.2, 0, 0.2])\n",
    "axs[0].set(ylabel='Flow')\n",
    "axs[1].set(xlabel = 'Time', ylabel='Price')\n",
    "# axs[0].grid(True, axis='x')\n",
    "# axs[1].grid(True, axis='x')\n",
    "# fig.tight_layout()\n",
    "fig.savefig(\"cyclic_example_smooth.pdf\")\n",
    "\"\"\""
   ]
  },
  {
   "cell_type": "code",
   "execution_count": null,
   "metadata": {},
   "outputs": [],
   "source": [
    "fig = plt.figure(figsize = (7,4))\n",
    "# gs = fig.add_gridspec(2, hspace=0)\n",
    "axs = fig.subplots(2, sharex=True)\n",
    "# plt.subplots_adjust(hspace=0)\n",
    "i = 0\n",
    "j = 2\n",
    "axs[0].plot(flows_data[(i,j)][:,0], label = \"A -> C\", marker ='.')\n",
    "axs[0].plot(flows_data[(i+1,j)][:,0], label = \"B -> C\", marker ='.')\n",
    "axs[1].plot(path_price_data[(i,j)][:,0], label = \"A -> C\", marker ='.')\n",
    "axs[1].plot(path_price_data[(i+1,j)][:,0], label = \"B -> C\", marker ='.')\n",
    "plt.legend(bbox_to_anchor=(0, 1.3), loc=\"upper left\")\n",
    "plt.xticks(range(0, 51, 5))\n",
    "axs[0].set(yticks = range(0, 11, 5))\n",
    "axs[1].set(yticks = [0, 0.5, 1])\n",
    "axs[0].set(ylabel='Flow')\n",
    "axs[1].set(xlabel = 'Time', ylabel='Price')\n",
    "# axs[0].grid(True, axis='x')\n",
    "# axs[1].grid(True, axis='x')\n",
    "# fig.tight_layout()\n",
    "fig.savefig(\"deadlock_example_smooth.pdf\")"
   ]
  },
  {
   "cell_type": "code",
   "execution_count": null,
   "metadata": {},
   "outputs": [],
   "source": []
  },
  {
   "cell_type": "code",
   "execution_count": null,
   "metadata": {},
   "outputs": [],
   "source": [
    "alphabets = ['A', 'B', 'C', 'D', 'E', 'F']\n",
    "plt.close(\"all\")\n",
    "plt.figure(figsize=(6,4))\n",
    "for i in range(n):\n",
    "    for j in range(n):\n",
    "        if myPCN.demands[i,j] > 0:\n",
    "            for k in range(len(myPCN.paths[(i,j)])):\n",
    "                plt.plot(flows_data[(i,j)][:,k], label = alphabets[i] + \" -> \" + alphabets[j] + \", path \" + str(k))\n",
    "plt.legend()\n",
    "plt.title(\"Flows as a function of time\")"
   ]
  },
  {
   "cell_type": "code",
   "execution_count": null,
   "metadata": {},
   "outputs": [],
   "source": [
    "plt.figure(figsize=(6,4))\n",
    "for i in range(n):\n",
    "    for j in range(n):\n",
    "        if myPCN.demands[i,j] > 0:\n",
    "            for k in range(len(myPCN.paths[(i,j)])):\n",
    "                plt.plot(path_price_data[(i,j)][:,k], label = alphabets[i] + \" -> \" + alphabets[j] + \", path \" + str(k))\n",
    "plt.legend()\n",
    "plt.title(\"Prices as a function of time\")"
   ]
  }
 ],
 "metadata": {
  "kernelspec": {
   "display_name": "base",
   "language": "python",
   "name": "python3"
  },
  "language_info": {
   "codemirror_mode": {
    "name": "ipython",
    "version": 3
   },
   "file_extension": ".py",
   "mimetype": "text/x-python",
   "name": "python",
   "nbconvert_exporter": "python",
   "pygments_lexer": "ipython3",
   "version": "3.9.6"
  },
  "orig_nbformat": 4
 },
 "nbformat": 4,
 "nbformat_minor": 2
}
